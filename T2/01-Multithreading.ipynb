{
 "cells": [
  {
   "cell_type": "markdown",
   "metadata": {},
   "source": [
    "# Multithreading\n",
    "\n",
    "This is the idea behind parallel processing, or the ability to set up and run multiple tasks concurrently.\n"
   ]
  },
  {
   "cell_type": "markdown",
   "metadata": {},
   "source": [
    "##  Threading \n",
    "\n",
    "\n",
    "#### I/O-intensive processes improved with multithreading:\n",
    "* webscraping\n",
    "* reading and writing to files\n",
    "* sharing data between programs\n",
    "* network communications\n"
   ]
  },
  {
   "cell_type": "markdown",
   "metadata": {},
   "source": [
    "## Multithreading Example: Webscraping\n",
    "\n",
    "Historically, the programming knowledge required to set up multithreading was beyond the scope of this course, as it involved a good understanding of Python's Global Interpreter Lock (the GIL prevents multiple threads from running the same Python code at once). Also, you had to set up special classes that behave like Producers to divvy up the work, Consumers (aka \"workers\") to perform the work, and a Queue to hold tasks and provide communcations. And that was just the beginning.\n",
    "\n",
    "Fortunately, we've already learned one of the most valuable tools we'll need – the `map()` function. When we apply it using two standard libraries, *multiprocessing* and *multiprocessing.dummy*, setting up parallel processes and threads becomes fairly straightforward.\n"
   ]
  },
  {
   "cell_type": "markdown",
   "metadata": {},
   "source": [
    "Here's a classic multithreading example provided by [IBM](http://www.ibm.com/developerworks/aix/library/au-threadingpython/) and adapted by [Chris Kiehl](http://chriskiehl.com/article/parallelism-in-one-line/) where you divide the task of retrieving web pages across multiple threads:\n",
    "\n",
    "\n",
    "    import time \n",
    "    import threading \n",
    "    import Queue \n",
    "    import urllib2 \n",
    "\n",
    "    class Consumer(threading.Thread): \n",
    "      def __init__(self, queue): \n",
    "        threading.Thread.__init__(self)\n",
    "        self._queue = queue \n",
    "\n",
    "      def run(self):\n",
    "        while True: \n",
    "          content = self._queue.get() \n",
    "          if isinstance(content, str) and content == 'quit':\n",
    "            break\n",
    "          response = urllib2.urlopen(content)\n",
    "        print 'Thanks!'\n",
    "\n",
    "\n",
    "    def Producer():\n",
    "      urls = [\n",
    "        'http://www.python.org', 'http://www.yahoo.com'\n",
    "        'http://www.scala.org', 'http://www.google.com'\n",
    "        # etc.. \n",
    "      ]\n",
    "      queue = Queue.Queue()\n",
    "      worker_threads = build_worker_pool(queue, 4)\n",
    "      start_time = time.time()\n",
    "\n",
    "      # Add the urls to process\n",
    "      for url in urls: \n",
    "        queue.put(url)  \n",
    "      # Add the poison pill\n",
    "      for worker in worker_threads:\n",
    "        queue.put('quit')\n",
    "      for worker in worker_threads:\n",
    "        worker.join()\n",
    "\n",
    "      print 'Done! Time taken: {}'.format(time.time() - start_time)\n",
    "\n",
    "    def build_worker_pool(queue, size):\n",
    "      workers = []\n",
    "      for _ in range(size):\n",
    "        worker = Consumer(queue)\n",
    "        worker.start() \n",
    "        workers.append(worker)\n",
    "      return workers\n",
    "\n",
    "    if __name__ == '__main__':\n",
    "      Producer()"
   ]
  }
 ],
 "metadata": {
  "kernelspec": {
   "display_name": "Python 3.10.0 64-bit",
   "language": "python",
   "name": "python3"
  },
  "language_info": {
   "codemirror_mode": {
    "name": "ipython",
    "version": 3
   },
   "file_extension": ".py",
   "mimetype": "text/x-python",
   "name": "python",
   "nbconvert_exporter": "python",
   "pygments_lexer": "ipython3",
   "version": "3.10.0"
  },
  "vscode": {
   "interpreter": {
    "hash": "52634da84371cba311ea128a5ea7cdc41ff074b781779e754b270ff9f8153cee"
   }
  }
 },
 "nbformat": 4,
 "nbformat_minor": 2
}
