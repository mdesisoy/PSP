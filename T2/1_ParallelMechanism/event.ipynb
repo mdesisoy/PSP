{
  "cells": [
    {
      "cell_type": "code",
      "execution_count": null,
      "metadata": {},
      "outputs": [],
      "source": [
        "import time\n",
        "import urllib.request\n",
        "import threading\n",
        "import random\n"
      ]
    },
    {
      "cell_type": "code",
      "execution_count": null,
      "metadata": {},
      "outputs": [],
      "source": [
        "\n",
        "class Producer(threading.Thread):\n",
        "    \"\"\"\n",
        "    Produces random integers to a list\n",
        "    \"\"\"\n",
        "\n",
        "    def __init__(self, integers, event):\n",
        "        \"\"\"\n",
        "        Constructor.\n",
        "\n",
        "        @param integers list of integers\n",
        "        @param event event synchronization object\n",
        "        \"\"\"\n",
        "        threading.Thread.__init__(self)\n",
        "        self.integers = integers\n",
        "        self.event = event\n",
        "    \n",
        "    def run(self):\n",
        "        \"\"\"\n",
        "        Thread run method. Append random integers to the integers list\n",
        "        at random time.\n",
        "        \"\"\"\n",
        "        for i in range(10):\n",
        "            integer = random.randint(0, 256)\n",
        "            self.integers.append(integer) \n",
        "            print (\"%d appended to list by %s\" % (integer, self.name))\n",
        "            print (\"event set by %s\" % self.name)\n",
        "            self.event.set()\n",
        "            print (\"event cleared by %s\" % self.name)\n",
        "            self.event.clear()\n"
      ]
    },
    {
      "cell_type": "code",
      "execution_count": null,
      "metadata": {},
      "outputs": [],
      "source": [
        "\n",
        "class Consumer(threading.Thread):\n",
        "    \"\"\"\n",
        "    Consumes random integers from a list\n",
        "    \"\"\"\n",
        "\n",
        "    def __init__(self, integers, event):\n",
        "        \"\"\"\n",
        "        Constructor.\n",
        "\n",
        "        @param integers list of integers\n",
        "        @param event event synchronization object\n",
        "        \"\"\"\n",
        "        threading.Thread.__init__(self)\n",
        "        self.integers = integers\n",
        "        self.event = event\n",
        "    \n",
        "    def run(self):\n",
        "        \"\"\"\n",
        "        Thread run method. Consumes integers from list\n",
        "        \"\"\"\n",
        "        while True:\n",
        "            self.event.wait()\n",
        "            integer = self.integers.pop()\n",
        "            print (\"%d popped from list by %s\" % (integer, self.name))\n"
      ]
    },
    {
      "cell_type": "code",
      "execution_count": null,
      "metadata": {},
      "outputs": [],
      "source": [
        "\n",
        "def main():\n",
        "    integers = []\n",
        "    event = threading.Event()\n",
        "    t1 = Producer(integers, event)\n",
        "    t2 = Consumer(integers, event)\n",
        "    t1.start()\n",
        "    t2.start()\n",
        "    t1.join()\n",
        "    t2.join()\n"
      ]
    },
    {
      "cell_type": "code",
      "execution_count": null,
      "metadata": {},
      "outputs": [],
      "source": [
        "\n",
        "if __name__ == '__main__':\n",
        "    main()\n",
        "\n"
      ]
    }
  ],
  "metadata": {
    "anaconda-cloud": {},
    "kernelspec": {
      "display_name": "Python 3.10.4 64-bit",
      "language": "python",
      "name": "python3"
    },
    "language_info": {
      "codemirror_mode": {
        "name": "ipython",
        "version": 3
      },
      "file_extension": ".py",
      "mimetype": "text/x-python",
      "name": "python",
      "nbconvert_exporter": "python",
      "pygments_lexer": "ipython3",
      "version": "3.10.4"
    },
    "vscode": {
      "interpreter": {
        "hash": "3ad933181bd8a04b432d3370b9dc3b0662ad032c4dfaa4e4f1596c548f763858"
      }
    }
  },
  "nbformat": 4,
  "nbformat_minor": 4
}
